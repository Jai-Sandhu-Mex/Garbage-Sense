{
 "cells": [
  {
   "cell_type": "code",
   "execution_count": 34,
   "metadata": {},
   "outputs": [],
   "source": [
    "# Import necessary libraries\n",
    "import pandas as pd\n",
    "import numpy as np\n",
    "from sklearn.model_selection import train_test_split\n",
    "from sklearn.ensemble import RandomForestRegressor\n"
   ]
  },
  {
   "cell_type": "code",
   "execution_count": 35,
   "metadata": {},
   "outputs": [
    {
     "data": {
      "text/html": [
       "<div>\n",
       "<style scoped>\n",
       "    .dataframe tbody tr th:only-of-type {\n",
       "        vertical-align: middle;\n",
       "    }\n",
       "\n",
       "    .dataframe tbody tr th {\n",
       "        vertical-align: top;\n",
       "    }\n",
       "\n",
       "    .dataframe thead th {\n",
       "        text-align: right;\n",
       "    }\n",
       "</style>\n",
       "<table border=\"1\" class=\"dataframe\">\n",
       "  <thead>\n",
       "    <tr style=\"text-align: right;\">\n",
       "      <th></th>\n",
       "      <th>Time (hrs)</th>\n",
       "      <th>Fill Percentage (%)</th>\n",
       "      <th>Fill Level (cm)</th>\n",
       "      <th>Day</th>\n",
       "      <th>Hour</th>\n",
       "      <th>Fill Rate (cm/hr)</th>\n",
       "      <th>Previous Fill Percentage (%)</th>\n",
       "      <th>Time Since Emptying (hrs)</th>\n",
       "      <th>Time of Day_Morning</th>\n",
       "      <th>Time of Day_Afternoon</th>\n",
       "      <th>Time of Day_Evening</th>\n",
       "    </tr>\n",
       "  </thead>\n",
       "  <tbody>\n",
       "    <tr>\n",
       "      <th>0</th>\n",
       "      <td>0.000000</td>\n",
       "      <td>4.518090</td>\n",
       "      <td>1.355427</td>\n",
       "      <td>0</td>\n",
       "      <td>0</td>\n",
       "      <td>0.000000</td>\n",
       "      <td>0.000000</td>\n",
       "      <td>0.000000</td>\n",
       "      <td>0</td>\n",
       "      <td>0</td>\n",
       "      <td>0</td>\n",
       "    </tr>\n",
       "    <tr>\n",
       "      <th>1</th>\n",
       "      <td>0.163004</td>\n",
       "      <td>0.124241</td>\n",
       "      <td>0.037272</td>\n",
       "      <td>0</td>\n",
       "      <td>0</td>\n",
       "      <td>-8.086628</td>\n",
       "      <td>4.518090</td>\n",
       "      <td>0.163004</td>\n",
       "      <td>0</td>\n",
       "      <td>0</td>\n",
       "      <td>0</td>\n",
       "    </tr>\n",
       "    <tr>\n",
       "      <th>2</th>\n",
       "      <td>0.326008</td>\n",
       "      <td>7.452207</td>\n",
       "      <td>2.235662</td>\n",
       "      <td>0</td>\n",
       "      <td>0</td>\n",
       "      <td>13.486703</td>\n",
       "      <td>0.124241</td>\n",
       "      <td>0.163004</td>\n",
       "      <td>0</td>\n",
       "      <td>0</td>\n",
       "      <td>0</td>\n",
       "    </tr>\n",
       "    <tr>\n",
       "      <th>3</th>\n",
       "      <td>0.489013</td>\n",
       "      <td>9.844623</td>\n",
       "      <td>2.953387</td>\n",
       "      <td>0</td>\n",
       "      <td>0</td>\n",
       "      <td>4.403105</td>\n",
       "      <td>7.452207</td>\n",
       "      <td>0.163004</td>\n",
       "      <td>0</td>\n",
       "      <td>0</td>\n",
       "      <td>0</td>\n",
       "    </tr>\n",
       "    <tr>\n",
       "      <th>4</th>\n",
       "      <td>0.652017</td>\n",
       "      <td>5.157353</td>\n",
       "      <td>1.547206</td>\n",
       "      <td>0</td>\n",
       "      <td>0</td>\n",
       "      <td>-8.626653</td>\n",
       "      <td>9.844623</td>\n",
       "      <td>0.163004</td>\n",
       "      <td>0</td>\n",
       "      <td>0</td>\n",
       "      <td>0</td>\n",
       "    </tr>\n",
       "  </tbody>\n",
       "</table>\n",
       "</div>"
      ],
      "text/plain": [
       "   Time (hrs)  Fill Percentage (%)  Fill Level (cm)  Day  Hour  \\\n",
       "0    0.000000             4.518090         1.355427    0     0   \n",
       "1    0.163004             0.124241         0.037272    0     0   \n",
       "2    0.326008             7.452207         2.235662    0     0   \n",
       "3    0.489013             9.844623         2.953387    0     0   \n",
       "4    0.652017             5.157353         1.547206    0     0   \n",
       "\n",
       "   Fill Rate (cm/hr)  Previous Fill Percentage (%)  Time Since Emptying (hrs)  \\\n",
       "0           0.000000                      0.000000                   0.000000   \n",
       "1          -8.086628                      4.518090                   0.163004   \n",
       "2          13.486703                      0.124241                   0.163004   \n",
       "3           4.403105                      7.452207                   0.163004   \n",
       "4          -8.626653                      9.844623                   0.163004   \n",
       "\n",
       "   Time of Day_Morning  Time of Day_Afternoon  Time of Day_Evening  \n",
       "0                    0                      0                    0  \n",
       "1                    0                      0                    0  \n",
       "2                    0                      0                    0  \n",
       "3                    0                      0                    0  \n",
       "4                    0                      0                    0  "
      ]
     },
     "execution_count": 35,
     "metadata": {},
     "output_type": "execute_result"
    }
   ],
   "source": [
    "# Load dataset\n",
    "df = pd.read_csv(r\"C:\\Users\\asus\\Garbage-Sense\\trash_fill_data .csv\")  # Update path if needed\n",
    "\n",
    "# Display first few rows\n",
    "df.head()\n"
   ]
  },
  {
   "cell_type": "code",
   "execution_count": null,
   "metadata": {},
   "outputs": [],
   "source": [
    "# \"Cycle Time Remaining (hrs) grouping for calculateions \n",
    "df[\"Cycle Time Remaining (hrs)\"] = df.groupby(\"Day\")[\"Time (hrs)\"].transform(\"max\") - df[\"Time (hrs)\"]\n",
    "\n",
    "# Ensure values stay within a valid range (0 to 9 hours)\n",
    "df[\"Cycle Time Remaining (hrs)\"] = df[\"Cycle Time Remaining (hrs)\"].clip(0, 9)\n",
    "\n"
   ]
  },
  {
   "cell_type": "code",
   "execution_count": 42,
   "metadata": {},
   "outputs": [],
   "source": [
    "# Ensure \"Adjusted Fill Rate (cm/hr)\" exists\n",
    "if \"Fill Rate (cm/hr)\" in df.columns:\n",
    "    df[\"Adjusted Fill Rate (cm/hr)\"] = df[\"Fill Rate (cm/hr)\"]\n",
    "\n",
    "    # Add variation for lower fill percentages to simulate real-world behavior\n",
    "    low_fill_mask = df[\"Fill Percentage (%)\"] < 20\n",
    "    df.loc[low_fill_mask, \"Adjusted Fill Rate (cm/hr)\"] *= np.random.uniform(0.7, 1.3, low_fill_mask.sum())\n",
    "else:\n",
    "    print(\"⚠️ Warning: 'Fill Rate (cm/hr)' is missing from the dataset!\")\n",
    "\n",
    "# Ensure feature list is correct\n",
    "feature_columns = [\n",
    "    \"Fill Percentage (%)\", \"Fill Level (cm)\", \"Fill Rate (cm/hr)\", \n",
    "    \"Previous Fill Percentage (%)\", \"Time Since Emptying (hrs)\", \"Adjusted Fill Rate (cm/hr)\"\n",
    "]\n",
    "feature_columns.extend([col for col in df.columns if \"Time of Day\" in col])\n",
    "\n",
    "# Check for missing features\n",
    "missing_features = [col for col in feature_columns if col not in df.columns]\n",
    "if missing_features:\n",
    "    print(f\"⚠️ Warning: The following features are missing from the dataset: {missing_features}\")\n"
   ]
  },
  {
   "cell_type": "code",
   "execution_count": 43,
   "metadata": {},
   "outputs": [
    {
     "name": "stdout",
     "output_type": "stream",
     "text": [
      "✅ Model Retrained Successfully!\n"
     ]
    }
   ],
   "source": [
    "# Define features and target\n",
    "X = df[feature_columns]  # Features\n",
    "y = df[\"Cycle Time Remaining (hrs)\"]  # Target variable\n",
    "\n",
    "# Train-test split\n",
    "X_train, X_test, y_train, y_test = train_test_split(X, y, test_size=0.2, random_state=42)\n",
    "\n",
    "# Train a Random Forest model\n",
    "rf_model = RandomForestRegressor(n_estimators=100, random_state=42, max_depth=10, min_samples_split=5)\n",
    "rf_model.fit(X_train, y_train)\n",
    "\n",
    "print(\"✅ Model Retrained Successfully!\")\n"
   ]
  },
  {
   "cell_type": "code",
   "execution_count": 44,
   "metadata": {},
   "outputs": [],
   "source": [
    "# Function to Predict Time Remaining\n",
    "def predict_fill_time(fill_percentage):\n",
    "    fill_level = (fill_percentage / 100) * 30\n",
    "    estimated_fill_rate = df[\"Fill Rate (cm/hr)\"].median()\n",
    "    previous_fill_percentage = fill_percentage - estimated_fill_rate\n",
    "    estimated_time_since_emptying = df.loc[\n",
    "        (df[\"Fill Percentage (%)\"] >= fill_percentage - 1) & \n",
    "        (df[\"Fill Percentage (%)\"] <= fill_percentage + 1),\n",
    "        \"Time Since Emptying (hrs)\"\n",
    "    ].median()\n",
    "\n",
    "    # Average values for categorical features\n",
    "    time_of_day_features = df.filter(like=\"Time of Day\").mean().to_dict()\n",
    "\n",
    "    # Create input data\n",
    "    input_data = pd.DataFrame([{\n",
    "        \"Fill Percentage (%)\": fill_percentage,\n",
    "        \"Fill Level (cm)\": fill_level,\n",
    "        \"Fill Rate (cm/hr)\": estimated_fill_rate,\n",
    "        \"Previous Fill Percentage (%)\": previous_fill_percentage,\n",
    "        \"Time Since Emptying (hrs)\": estimated_time_since_emptying,\n",
    "        \"Adjusted Fill Rate (cm/hr)\": estimated_fill_rate,\n",
    "        **time_of_day_features\n",
    "    }])\n",
    "\n",
    "    # Predict and round to 2 decimal places\n",
    "    return round(rf_model.predict(input_data)[0], 2)\n"
   ]
  },
  {
   "cell_type": "code",
   "execution_count": 50,
   "metadata": {},
   "outputs": [
    {
     "name": "stdout",
     "output_type": "stream",
     "text": [
      "Prediction for 61.1% fill: 3.07\n",
      "Prediction for 15% fill: 7.06\n",
      "Prediction for 4% fill: 7.32\n",
      "Prediction for 98% fill: 0.21\n"
     ]
    }
   ],
   "source": [
    "print(\"Prediction for 61.1% fill:\", predict_fill_time(61.1))\n",
    "print(\"Prediction for 15% fill:\", predict_fill_time(15.0))\n",
    "print(\"Prediction for 4% fill:\", predict_fill_time(4.0))\n",
    "print(\"Prediction for 98% fill:\", predict_fill_time(98.2))\n",
    "\n"
   ]
  },
  {
   "cell_type": "code",
   "execution_count": null,
   "metadata": {},
   "outputs": [],
   "source": []
  }
 ],
 "metadata": {
  "kernelspec": {
   "display_name": "time_forcast",
   "language": "python",
   "name": "python3"
  },
  "language_info": {
   "codemirror_mode": {
    "name": "ipython",
    "version": 3
   },
   "file_extension": ".py",
   "mimetype": "text/x-python",
   "name": "python",
   "nbconvert_exporter": "python",
   "pygments_lexer": "ipython3",
   "version": "3.10.16"
  }
 },
 "nbformat": 4,
 "nbformat_minor": 2
}
